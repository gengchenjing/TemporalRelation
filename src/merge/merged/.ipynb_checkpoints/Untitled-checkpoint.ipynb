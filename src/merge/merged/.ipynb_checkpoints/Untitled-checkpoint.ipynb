{
 "cells": [
  {
   "cell_type": "code",
   "execution_count": 3,
   "metadata": {},
   "outputs": [],
   "source": [
    "with open(\"dctt.txt\") as f:\n",
    "    lst = {}\n",
    "    arr=[{}] * 54\n",
    "    for lines in f.readlines():\n",
    "        lines = str(lines)\n",
    "        cols = lines.split(\"\\t\")\n",
    "        #print(lst)\n",
    "    \n",
    "        page = int(cols[0])-1\n",
    "\n",
    "        arr[page][cols[2]] = cols[3]\n",
    "    print\n",
    "        \n",
    "\n"
   ]
  },
  {
   "cell_type": "code",
   "execution_count": 71,
   "metadata": {},
   "outputs": [
    {
     "data": {
      "text/plain": [
       "'攻め に 徹し て 一気'"
      ]
     },
     "execution_count": 71,
     "metadata": {},
     "output_type": "execute_result"
    }
   ],
   "source": [
    "with open(\"00001-ud.conll\",'r')as f2:\n",
    "    lst = []\n",
    "    for lines in f2.readlines():\n",
    "        if lines.startswith('# sent_id'):\n",
    "            print(lines[12:-1])\n",
    "\n",
    "\n",
    "        elif not lines.startswith('# text'):\n",
    "            #lines=lines.strip()\n",
    "            col = lines.split(\"\\t\")\n",
    "            lst.append(col[1])\n",
    "\n",
    "            print(lst)    "
   ]
  },
  {
   "cell_type": "code",
   "execution_count": null,
   "metadata": {},
   "outputs": [],
   "source": []
  }
 ],
 "metadata": {
  "kernelspec": {
   "display_name": "Python 3",
   "language": "python",
   "name": "python3"
  },
  "language_info": {
   "codemirror_mode": {
    "name": "ipython",
    "version": 3
   },
   "file_extension": ".py",
   "mimetype": "text/x-python",
   "name": "python",
   "nbconvert_exporter": "python",
   "pygments_lexer": "ipython3",
   "version": "3.7.1"
  }
 },
 "nbformat": 4,
 "nbformat_minor": 2
}
