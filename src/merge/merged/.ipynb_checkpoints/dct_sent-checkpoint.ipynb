{
 "cells": [
  {
   "cell_type": "code",
   "execution_count": null,
   "metadata": {},
   "outputs": [],
   "source": [
    "import pandas as pd\n",
    "import numpy as np\n",
    "import glob,os,re\n",
    "import copy\n",
    "path = r'/Users/gengchenjing/LanguageTime/input data/merge/merged'\n",
    "file = glob.glob(os.path.join(path, \"*.conll\"))\n",
    "\n",
    "for f in file:\n",
    "    print(f)\n",
    "    \n",
    "    with open(f) as ff:\n",
    "        lines = ff.readlines()\n",
    "    \n",
    "    lst  = []\n",
    "    sen_lst = []\n",
    "    lst += lines\n",
    "    \n",
    "    for line in lines:\n",
    "        if line.startswith('# sent_id'):\n",
    "            #lst2= []\n",
    "            #lst2.append(copy.deepcopy(line))\n",
    "            lst2 = line[12:-2]\n",
    "            \n",
    "                          \n",
    "        else:\n",
    "            lst.append(line)\n",
    "        sen_lst.append(copy.deepcopy(lst))\n",
    "    \n",
    "    #print(sen_id_lst[1][0][12:-2]) # sent_id\n",
    "    print(lst2)\n",
    "    for l in sen_lst[1][2:]:\n",
    "        l = l.split('\\t')\n",
    "        print(l[1])\n",
    "    "
   ]
  },
  {
   "cell_type": "code",
   "execution_count": null,
   "metadata": {},
   "outputs": [],
   "source": []
  },
  {
   "cell_type": "code",
   "execution_count": null,
   "metadata": {},
   "outputs": [],
   "source": []
  },
  {
   "cell_type": "code",
   "execution_count": null,
   "metadata": {},
   "outputs": [],
   "source": [
    "\n",
    "\n"
   ]
  },
  {
   "cell_type": "code",
   "execution_count": null,
   "metadata": {},
   "outputs": [],
   "source": []
  },
  {
   "cell_type": "code",
   "execution_count": null,
   "metadata": {},
   "outputs": [],
   "source": []
  }
 ],
 "metadata": {
  "kernelspec": {
   "display_name": "Python 3",
   "language": "python",
   "name": "python3"
  },
  "language_info": {
   "codemirror_mode": {
    "name": "ipython",
    "version": 3
   },
   "file_extension": ".py",
   "mimetype": "text/x-python",
   "name": "python",
   "nbconvert_exporter": "python",
   "pygments_lexer": "ipython3",
   "version": "3.7.1"
  }
 },
 "nbformat": 4,
 "nbformat_minor": 2
}
